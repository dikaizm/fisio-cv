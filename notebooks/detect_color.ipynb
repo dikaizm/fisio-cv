{
 "cells": [
  {
   "cell_type": "code",
   "execution_count": 7,
   "metadata": {},
   "outputs": [],
   "source": [
    "import math\n",
    "\n",
    "def calculate_angle(point1, point2):\n",
    "    x1, y1 = point1\n",
    "    x2, y2 = point2\n",
    "    angle_rad = math.atan2(y2 - y1, x2 - x1)\n",
    "    angle_deg = math.degrees(angle_rad)\n",
    "    return angle_deg"
   ]
  },
  {
   "cell_type": "code",
   "execution_count": 8,
   "metadata": {},
   "outputs": [
    {
     "ename": "KeyboardInterrupt",
     "evalue": "",
     "output_type": "error",
     "traceback": [
      "\u001b[0;31m---------------------------------------------------------------------------\u001b[0m",
      "\u001b[0;31mKeyboardInterrupt\u001b[0m                         Traceback (most recent call last)",
      "Cell \u001b[0;32mIn[8], line 9\u001b[0m\n\u001b[1;32m      5\u001b[0m cap \u001b[38;5;241m=\u001b[39m cv2\u001b[38;5;241m.\u001b[39mVideoCapture(\u001b[38;5;241m0\u001b[39m)\n\u001b[1;32m      7\u001b[0m \u001b[38;5;28;01mwhile\u001b[39;00m \u001b[38;5;28;01mTrue\u001b[39;00m:\n\u001b[1;32m      8\u001b[0m     \u001b[38;5;66;03m# Read a frame from the webcam\u001b[39;00m\n\u001b[0;32m----> 9\u001b[0m     ret, frame \u001b[38;5;241m=\u001b[39m \u001b[43mcap\u001b[49m\u001b[38;5;241;43m.\u001b[39;49m\u001b[43mread\u001b[49m\u001b[43m(\u001b[49m\u001b[43m)\u001b[49m\n\u001b[1;32m     11\u001b[0m     \u001b[38;5;28;01mif\u001b[39;00m ret:\n\u001b[1;32m     12\u001b[0m         frame \u001b[38;5;241m=\u001b[39m cv2\u001b[38;5;241m.\u001b[39mGaussianBlur(frame, (\u001b[38;5;241m5\u001b[39m, \u001b[38;5;241m5\u001b[39m), \u001b[38;5;241m0\u001b[39m)\n",
      "\u001b[0;31mKeyboardInterrupt\u001b[0m: "
     ]
    }
   ],
   "source": [
    "import cv2\n",
    "import numpy as np\n",
    "\n",
    "# Open the webcam\n",
    "cap = cv2.VideoCapture(0)\n",
    "\n",
    "while True:\n",
    "    # Read a frame from the webcam\n",
    "    ret, frame = cap.read()\n",
    "\n",
    "    if ret:\n",
    "        frame = cv2.GaussianBlur(frame, (5, 5), 0)\n",
    "        \n",
    "        # Convert the frame from BGR to HSV color space\n",
    "        hsv = cv2.cvtColor(frame, cv2.COLOR_BGR2HSV)\n",
    "\n",
    "        # lower boundary GREEN color range values\n",
    "        lower = np.array([40, 100, 100])\n",
    "        upper = np.array([70, 255, 255])\n",
    "        \n",
    "        mask = cv2.inRange(hsv, lower, upper)\n",
    "        \n",
    "        result = cv2.bitwise_and(frame, frame, mask=mask)\n",
    "        \n",
    "        # Find contours in the mask\n",
    "        contours, _ = cv2.findContours(mask, cv2.RETR_EXTERNAL, cv2.CHAIN_APPROX_SIMPLE)\n",
    "\n",
    "        # Sort contours based on y-coordinate (top to bottom)\n",
    "        contours = sorted(contours, key=lambda c: cv2.boundingRect(c)[1])\n",
    "\n",
    "        # Store centroids in a list\n",
    "        centroids = []\n",
    "\n",
    "        # Iterate over the contours and label them\n",
    "        for i, contour in enumerate(contours, start=1):\n",
    "            # Get the bounding box of the contour\n",
    "            x, y, w, h = cv2.boundingRect(contour)\n",
    "\n",
    "            centroid_x = x + w // 2\n",
    "            centroid_y = y + h // 2\n",
    "\n",
    "            # Store centroid coordinates\n",
    "            centroids.append((centroid_x, centroid_y))\n",
    "\n",
    "            # Draw a rectangle around the detected object and label\n",
    "            cv2.rectangle(frame, (x, y), (x+w, y+h), (0, 255, 0), 2)\n",
    "            cv2.circle(frame, (centroid_x, centroid_y), 2, (0, 255, 255), 2)\n",
    "            cv2.putText(frame, str(i), (centroid_x + 10, centroid_y), cv2.FONT_HERSHEY_SIMPLEX, 0.5, (0, 255, 255), 2)\n",
    "\n",
    "        # Connect centroids with lines\n",
    "        if len(centroids) >= 2:\n",
    "            for i in range(len(centroids) - 1):\n",
    "                cv2.line(frame, centroids[i], centroids[i + 1], (255, 0, 0), 2)\n",
    "                \n",
    "            # Calculate the angle between point 2 and point 3\n",
    "            if len(centroids) >= 3:\n",
    "                angle_point2_to_point3 = calculate_angle(centroids[1], centroids[2])\n",
    "                cv2.putText(frame, str(angle_point2_to_point3), (centroids[1][0] - 50, centroids[1][1] - 50), cv2.FONT_HERSHEY_SIMPLEX, 0.5, (255, 0, 0), 2)\n",
    "\n",
    "    # Display the frame\n",
    "    cv2.imshow('Webcam Feed', frame)\n",
    "    \n",
    "    # cv2.imshow('result', result)\n",
    "\n",
    "    # Break the loop if the 'q' key is pressed\n",
    "    if cv2.waitKey(1) & 0xFF == ord('q'):\n",
    "        break\n",
    "\n",
    "# Release the webcam and close all windows\n",
    "cap.release()\n",
    "cv2.destroyAllWindows()\n"
   ]
  }
 ],
 "metadata": {
  "kernelspec": {
   "display_name": "Python 3",
   "language": "python",
   "name": "python3"
  },
  "language_info": {
   "codemirror_mode": {
    "name": "ipython",
    "version": 3
   },
   "file_extension": ".py",
   "mimetype": "text/x-python",
   "name": "python",
   "nbconvert_exporter": "python",
   "pygments_lexer": "ipython3",
   "version": "3.11.4"
  }
 },
 "nbformat": 4,
 "nbformat_minor": 2
}
